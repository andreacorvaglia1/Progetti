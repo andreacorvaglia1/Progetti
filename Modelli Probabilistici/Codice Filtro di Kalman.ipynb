{
 "cells": [
  {
   "cell_type": "markdown",
   "metadata": {},
   "source": [
    "#  Filtro di Kalman\n",
    "\n",
    "#### Andrea Corvaglia (802487)\n",
    "    \n",
    "    \n",
    "  \n",
    "    "
   ]
  },
  {
   "cell_type": "markdown",
   "metadata": {},
   "source": [
    "##   Import delle librerie"
   ]
  },
  {
   "cell_type": "code",
   "execution_count": 6,
   "metadata": {},
   "outputs": [],
   "source": [
    "import numpy as np\n",
    "from numpy.linalg import inv \n",
    "from numpy.random import randn \n",
    "import matplotlib.pyplot as plt\n",
    "from math import sqrt"
   ]
  },
  {
   "cell_type": "markdown",
   "metadata": {},
   "source": [
    "# Funzioni"
   ]
  },
  {
   "cell_type": "markdown",
   "metadata": {},
   "source": [
    "### Funzione fase di predizione\n",
    "\n",
    "Prende in argomento lo stato del sistema `X`, la matrice delle covarianze del sistema `P`, la matrice di transizione `F`, la matrice delle varianze degli errori del processo `Q` e gli elementi di input `B` (matrice) e `U` (vettore).\n",
    "Restituisce il vettore `X` e la matrice `P` aggiornati."
   ]
  },
  {
   "cell_type": "code",
   "execution_count": 7,
   "metadata": {},
   "outputs": [],
   "source": [
    "def kf_predict(X, P, F, Q, B, U):\n",
    "    # Fx+Bu | Aggiorna lo stato\n",
    "    X = np.dot(F, X) + np.dot(B, U)\n",
    "    # FPFt + Q | aggiorna la matrice delle covarianze \n",
    "    # sommando il contributo dell'incertezza della previsione e della dinamica del processo\n",
    "    P = np.dot(F, np.dot(P, F.T)) + Q\n",
    "    return(X,P) "
   ]
  },
  {
   "cell_type": "markdown",
   "metadata": {},
   "source": [
    "### Funzione fase di aggiornamento\n",
    "\n",
    "Prende in argomento lo stato del sistema `X`, la matrice delle covarianze del sistema `P`, la matrice di trasformazione `H` e la matrice delle varianze dell'errore sulle misure. Restituisce il vettore `X` e la matrice `P` aggiornati.\n"
   ]
  },
  {
   "cell_type": "code",
   "execution_count": 8,
   "metadata": {},
   "outputs": [],
   "source": [
    "def kf_update(X, P, Y, H, R):\n",
    "    # Proietta lo stato nello spazio di misura\n",
    "    IM = np.dot(H, X)\n",
    "    # Matrice di covarianza totale: processo + misura\n",
    "    IS = R + np.dot(H, np.dot(P, H.T))\n",
    "    # Calcolo del coefficiente di guadagno di Kalman K = P*Ht*IS^-1 \n",
    "    # cov processo su totale -> da una idea di quanto ci si può fidare della predizione\n",
    "    K = np.dot(P, np.dot(H.T, inv(IS)))\n",
    "    # Riaggiorniamo media e covarianza dello stato\n",
    "    X = X + np.dot(K, (Y-IM)) # parametrizzazione del segmento Y->IM tramite K\n",
    "    P = P - np.dot(K, np.dot(IS, K.T)) # prondotto delle covarianze\n",
    "    return (X,P)"
   ]
  },
  {
   "cell_type": "markdown",
   "metadata": {},
   "source": [
    "## Simulazione di movimento"
   ]
  },
  {
   "cell_type": "markdown",
   "metadata": {},
   "source": [
    "### Funzione di simulazione singolo movimento\n",
    "\n",
    "Prende in input il vettore di stato `X` al tempo $t$, la varianza della misura `z_var` , la varianza del processo `process_var` e l'intervallo di tempo.\n",
    "Genera la posizione successiva estrapolando la posizione attuale dal vettore di stato e calcolando lo spostamento a partire dalla velocità ugualmente estrapolata. Applica, però, alle componenti della velocità un errore casuale estrapolato da una gaussiana di media nulla e varianza `process_var` per rendere conto dell'incertezza del processo. L'errore lungo l'asse x ha una varianza dieci volte minore rispetto al suo omologo lungo y, in modo da avere un moto unidirezionale lungo le ascisse (Per avere un plot della traiettoria più chiaro). In questo modo sono generate le posizioni reali dell'oggetto al tempo $t+dt$, a partire dalle quali viene simulata una misura, aggiungendo rumore casuale con varianza `z_var`, identica per le due coordinate.\n",
    "Viene restituito il vettore di stato al tempo $t+dt$ con le posizioni e la velocità aggiornati e il vettore della misura corrispondente."
   ]
  },
  {
   "cell_type": "code",
   "execution_count": 9,
   "metadata": {},
   "outputs": [],
   "source": [
    "def move(X,z_var,process_var,dt=.1) :\n",
    "    \"Simula un singolo movimento\"\n",
    "    pos = X[:2]\n",
    "    vel = X[2:] \n",
    "    p_std = sqrt(process_var)\n",
    "    z_std = sqrt(z_var)\n",
    "    vel[0]+= 0.1*randn()*p_std \n",
    "    vel[1]+= randn()*p_std \n",
    "    pos[0] += vel[0]*dt\n",
    "    pos[1] += vel[1]*dt\n",
    "    z = [pos[0] + randn()*z_std , pos[1] + randn()*z_std]\n",
    "    X = np.concatenate((pos,vel))\n",
    "    return X,z"
   ]
  },
  {
   "cell_type": "markdown",
   "metadata": {},
   "source": [
    "### Funzione di simulazione della traiettoria\n",
    "\n",
    "Prende in argomento il numero di passi `N_iter`, la varianza della misura `z_var` , la varianza del processo `process_var` e l'intervallo di tempo. \n",
    "Semplicemente reitera la funzione **move** per `N_iter` volte, salvando posizoni reali e misurate in due vettore che restituisce in output."
   ]
  },
  {
   "cell_type": "code",
   "execution_count": 10,
   "metadata": {},
   "outputs": [],
   "source": [
    "def simulator(N_iter=500,z_var=0.5,process_var=0.01,dt=0.1):\n",
    "    \"Genera una sequenza di movimenti, restituendo le posizioni vere e misurate\"\n",
    "    # Inizializzazione \n",
    "    X = np.array([0.,0.,1.,1.])\n",
    "    real_pos = []\n",
    "    misured_pos = []\n",
    "    for i in range(N_iter):\n",
    "        X,z = move(X,z_var,process_var,dt)\n",
    "        real_pos.append(X[:2])\n",
    "        misured_pos.append(z)\n",
    "    return np.array(real_pos), np.array(misured_pos)"
   ]
  },
  {
   "cell_type": "markdown",
   "metadata": {},
   "source": [
    "# Applicazione"
   ]
  },
  {
   "cell_type": "markdown",
   "metadata": {},
   "source": [
    "In questa sezione verranno inizializzati i parametri fondamentali del problema e generata la sequenza simulata di posizioni reali e le corrispondenti misure (si noti che il Filtro di Kalman essendo un algoritmo di filtraggio funziona senza problemi online, ma viene comunque generata prima la sequenza solo per ragioni di comodità). Successivamente verrà applicato l'algoritmo di filtraggio per ottenere una sequenza di posizioni a partire dalle misure e dai parametri precedentemente inizializzati.\n",
    "Nell'ultima parte verrà mostrato un plot per confrontare la traiettoria filtrata con quella misurata e quella reale. Verrà inoltre analizzato l'andamento della varianza stimata dal modello e dei residui."
   ]
  },
  {
   "cell_type": "markdown",
   "metadata": {},
   "source": [
    "### Set seed per generazione casuale."
   ]
  },
  {
   "cell_type": "code",
   "execution_count": 11,
   "metadata": {},
   "outputs": [],
   "source": [
    "seed = 123"
   ]
  },
  {
   "cell_type": "markdown",
   "metadata": {},
   "source": [
    "### Inizializzazione dei parametri fondamentali"
   ]
  },
  {
   "cell_type": "code",
   "execution_count": 18,
   "metadata": {},
   "outputs": [
    {
     "data": {
      "image/png": "[encoded data removed]",
      "text/plain": [
       "<Figure size 432x288 with 1 Axes>"
      ]
     },
     "metadata": {
      "needs_background": "light"
     },
     "output_type": "display_data"
    }
   ],
   "source": [
    "# Intervallo temporale del movimento\n",
    "dt = 0.1\n",
    "z_var=0.1 # incertezza sulla misura \n",
    "process_var=0.01 # incertezza del processo \n",
    "# Numeor di iterazioni nel Filtro di Kalman \n",
    "N_iter =200\n",
    "###################################################\n",
    "# Generazione della traiettoria e delle misure\n",
    "np.random.seed(seed)\n",
    "real,measured = simulator(N_iter,z_var,process_var,dt)\n",
    "plt.plot(real[:,0],real[:,1],\".\",c=\"k\",ms=3)\n",
    "plt.plot(measured[:,0],measured[:,1],\".\",c=\"r\",ms=4)\n",
    "###################################################\n",
    "# Vettore di stato \n",
    "X = np.array([[real[0,0]], [real[0,1]], [1.], [1.]])\n",
    "# Matrice covarianze dello stato\n",
    "P = np.diag((1, 1, 10, 10))\n",
    "# Matrice di transizione\n",
    "F = np.array([[1, 0, dt , 0], [0, 1, 0, dt], [0, 0, 1, 0], [0, 0, 0, 1]])\n",
    "# Matrice covarianze errore processo\n",
    "Q = np.array([[0, 0, dt*process_var/100 , 0], [0, 0, 0, dt*process_var], [0.1*process_var/100, 0, process_var/100, 0], [0, 0.1*process_var, 0, process_var]])\n",
    "# Matrice di input\n",
    "B = np.eye(X.shape[0])\n",
    "U = np.zeros((X.shape[0],1)) \n",
    "# Matrici di misura\n",
    "H = np.array([[1, 0, 0, 0], [0, 1, 0, 0]]) \n",
    "R =  np.diag((z_var, z_var))               "
   ]
  },
  {
   "cell_type": "markdown",
   "metadata": {},
   "source": [
    "### Applicazione del filtro"
   ]
  },
  {
   "cell_type": "code",
   "execution_count": 13,
   "metadata": {
    "scrolled": true
   },
   "outputs": [],
   "source": [
    "sigma= np.zeros((4,N_iter)) # matrice per salvare i vari valori delle varianze\n",
    "xx = np.zeros(N_iter)\n",
    "yy = np.zeros(N_iter)\n",
    "#######################\n",
    "residual = []\n",
    "var = [P.diagonal()[0]]\n",
    "#######################\n",
    "for i in range(0, N_iter):\n",
    "    Y = np.array([[measured[i,0]],[measured[i,1]]])\n",
    "    res = real[i,1]-X[1]\n",
    "    residual.append(res)\n",
    "    xx[i]=X[0]\n",
    "    yy[i]=X[1]\n",
    "    sigma[:,i]= P.diagonal()\n",
    "    var.append(P.diagonal()[0])\n",
    "    (X, P) = kf_predict(X, P, F, Q, B, U)\n",
    "    (X, P) = kf_update(X, P, Y, H, R)\n",
    "var = np.array(var)"
   ]
  },
  {
   "cell_type": "markdown",
   "metadata": {},
   "source": [
    "## Plot"
   ]
  },
  {
   "cell_type": "code",
   "execution_count": 14,
   "metadata": {},
   "outputs": [],
   "source": [
    "tit = [\"$x$\",\"$y$\",\"$v_{x}$\",\"$v_{y}$\"]"
   ]
  },
  {
   "cell_type": "code",
   "execution_count": 15,
   "metadata": {},
   "outputs": [
    {
     "data": {
      "image/png": "[encoded data removed]",
      "text/plain": [
       "<Figure size 432x288 with 4 Axes>"
      ]
     },
     "metadata": {
      "needs_background": "light"
     },
     "output_type": "display_data"
    }
   ],
   "source": [
    "for i in range(4):\n",
    "    plt.subplot(str(22)+str(i+1))\n",
    "    plt.tight_layout(pad = 1.5)\n",
    "    plt.title(\"Varianza su \"+tit[i])\n",
    "    plt.plot(sigma[i,:])\n",
    "#plt.savefig(\"var.png\",dpi=200)"
   ]
  },
  {
   "cell_type": "code",
   "execution_count": 16,
   "metadata": {},
   "outputs": [
    {
     "data": {
      "image/png": "[encoded data removed]",
      "text/plain": [
       "<Figure size 432x288 with 1 Axes>"
      ]
     },
     "metadata": {
      "needs_background": "light"
     },
     "output_type": "display_data"
    }
   ],
   "source": [
    "plt.figure()\n",
    "plt.title(\"Residui vs 3-sigma\")\n",
    "plt.tight_layout(pad = 1.5)\n",
    "plt.xlabel(\"Iterazioni\")\n",
    "plt.ylabel(\"y (m)\")\n",
    "\n",
    "plt.plot(residual,label=\"Residui\",lw=2)\n",
    "plt.plot(N_iter*[0],\"black\")\n",
    "plt.plot(3*np.sqrt(var),linestyle='dashed',color=\"red\",label = \"sigma\")\n",
    "plt.plot(-3*np.sqrt(var),linestyle='dashed',color=\"red\")\n",
    "plt.plot(sigma[1,1])\n",
    "plt.legend()\n",
    "#plt.savefig(\"Residui.png\",dpi=200)"
   ]
  },
  {
   "cell_type": "code",
   "execution_count": 17,
   "metadata": {},
   "outputs": [
    {
     "data": {
      "text/plain": [
       "<matplotlib.legend.Legend at 0x227fc44b438>"
      ]
     },
     "execution_count": 17,
     "metadata": {},
     "output_type": "execute_result"
    },
    {
     "data": {
      "image/png": "[encoded data removed]",
      "text/plain": [
       "<Figure size 432x288 with 1 Axes>"
      ]
     },
     "metadata": {
      "needs_background": "light"
     },
     "output_type": "display_data"
    }
   ],
   "source": [
    "plt.figure()\n",
    "plt.title(\"Filtro di Kalman\")\n",
    "plt.tight_layout(pad = 1.5)\n",
    "plt.xlabel(\"x (m)\")\n",
    "plt.ylabel(\"y (m)\")\n",
    "\n",
    "plt.plot(real[:,0],real[:,1],\".\",label=\"Posizioni Reali\",c=\"k\",ms=3)\n",
    "plt.plot(measured[:,0],measured[:,1],\".\",label=\"Misure\",c=\"r\",ms=4)\n",
    "plt.plot(xx,yy,label=\"Filtro\",lw=2,c=\"c\")\n",
    "plt.legend()\n",
    "#plt.savefig(\"Filtro.png\",dpi=200)"
   ]
  }
 ],
 "metadata": {
  "kernelspec": {
   "display_name": "Python 3",
   "language": "python",
   "name": "python3"
  },
  "language_info": {
   "codemirror_mode": {
    "name": "ipython",
    "version": 3
   },
   "file_extension": ".py",
   "mimetype": "text/x-python",
   "name": "python",
   "nbconvert_exporter": "python",
   "pygments_lexer": "ipython3",
   "version": "3.7.3"
  }
 },
 "nbformat": 4,
 "nbformat_minor": 2
}
